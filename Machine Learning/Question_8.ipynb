{
 "cells": [
  {
   "cell_type": "markdown",
   "id": "6810507f",
   "metadata": {},
   "source": [
    "# Machine Learning Project\n",
    "Submitted by Ambarish Singh"
   ]
  },
  {
   "cell_type": "markdown",
   "id": "7f6700a7",
   "metadata": {},
   "source": [
    "## Problem Statement :-\n",
    "\n",
    "### Question-8 :-\n",
    "\n",
    "Quora question pair similarity, you need to find the Similarity between two\n",
    "questions by mapping the words in the questions using TF-IDF, and using a supervised\n",
    "Algorithm you need to find the similarity between the questions.\n",
    "\n",
    "Dataset Links:- https://www.kaggle.com/c/quora-question-pairs\n"
   ]
  },
  {
   "cell_type": "code",
   "execution_count": null,
   "id": "d94d05aa",
   "metadata": {},
   "outputs": [],
   "source": []
  },
  {
   "cell_type": "code",
   "execution_count": null,
   "id": "fad33dac",
   "metadata": {},
   "outputs": [],
   "source": []
  },
  {
   "cell_type": "code",
   "execution_count": null,
   "id": "36d1f6a5",
   "metadata": {},
   "outputs": [],
   "source": []
  },
  {
   "cell_type": "code",
   "execution_count": null,
   "id": "4292ca8e",
   "metadata": {},
   "outputs": [],
   "source": []
  }
 ],
 "metadata": {
  "kernelspec": {
   "display_name": "Python 3 (ipykernel)",
   "language": "python",
   "name": "python3"
  },
  "language_info": {
   "codemirror_mode": {
    "name": "ipython",
    "version": 3
   },
   "file_extension": ".py",
   "mimetype": "text/x-python",
   "name": "python",
   "nbconvert_exporter": "python",
   "pygments_lexer": "ipython3",
   "version": "3.9.7"
  }
 },
 "nbformat": 4,
 "nbformat_minor": 5
}
